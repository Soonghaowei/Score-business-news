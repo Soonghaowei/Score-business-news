{
 "cells": [
  {
   "cell_type": "code",
   "execution_count": 37,
   "metadata": {},
   "outputs": [],
   "source": [
    "import csv\n",
    "import os\n",
    "import pandas as pd\n",
    "import jieba\n",
    "from bs4 import BeautifulSoup"
   ]
  },
  {
   "cell_type": "code",
   "execution_count": 38,
   "metadata": {},
   "outputs": [],
   "source": [
    "import re\n",
    "import pandas as pd\n",
    "import os\n",
    "import time\n",
    "import requests\n",
    "from nltk.tokenize import WordPunctTokenizer\n",
    "import jieba\n",
    "import random\n",
    "from bs4 import BeautifulSoup\n",
    "import unicodedata"
   ]
  },
  {
   "cell_type": "code",
   "execution_count": 39,
   "metadata": {},
   "outputs": [],
   "source": [
    "import re\n",
    "import pandas as pd\n",
    "import os\n",
    "import time\n",
    "\n",
    "from nltk.tokenize import WordPunctTokenizer\n",
    "import jieba\n",
    "\n",
    " "
   ]
  },
  {
   "cell_type": "code",
   "execution_count": 40,
   "metadata": {},
   "outputs": [],
   "source": [
    "def is_chinese(uchar):\n",
    "    \"\"\"判断一个unicode是否是汉字\"\"\"\n",
    "    if uchar >= u'\\u4e00' and uchar <= u'\\u9fa5':\n",
    "        return True\n",
    "    else:\n",
    "        return False\n",
    "\n",
    "def is_number(uchar):\n",
    "    \"\"\"判断一个unicode是否是数字\"\"\"\n",
    "    if uchar >= u'\\u0030' and uchar <= u'\\u0039':\n",
    "        return True\n",
    "    else:\n",
    "        return False\n",
    "\n",
    "def is_alphabet(uchar):\n",
    "    \"\"\"判断一个unicode是否是英文字母\"\"\"\n",
    "    if (uchar >= u'\\u0041' and uchar <= u'\\u005a') or (uchar >= u'\\u0061' and uchar <= u'\\u007a'):\n",
    "        return True\n",
    "    else:\n",
    "        return False\n",
    "def format_str(content):\n",
    "    # content = unicode(content,'utf-8')\n",
    "    content = str(content)\n",
    "    content_str = ''\n",
    "\n",
    "    for i in content:\n",
    "        if is_chinese(i):\n",
    "            content_str = content_str+i\n",
    "    return content_str"
   ]
  },
  {
   "cell_type": "code",
   "execution_count": 41,
   "metadata": {},
   "outputs": [],
   "source": [
    "\n",
    "def userAgent():\n",
    "    user_agents = [\n",
    "        \"Mozilla/5.0 (Linux; U; Android 2.3.6; en-us; Nexus S Build/GRK39F) AppleWebKit/533.1 (KHTML, like Gecko) Version/4.0 Mobile Safari/533.1\",\n",
    "        \"Avant Browser/1.2.789rel1 (http://www.avantbrowser.com)\",\n",
    "        \"Mozilla/5.0 (Windows; U; Windows NT 6.1; en-US) AppleWebKit/532.5 (KHTML, like Gecko) Chrome/4.0.249.0 Safari/532.5\",\n",
    "        \"Mozilla/5.0 (Windows; U; Windows NT 5.2; en-US) AppleWebKit/532.9 (KHTML, like Gecko) Chrome/5.0.310.0 Safari/532.9\",\n",
    "        \"Mozilla/5.0 (Windows; U; Windows NT 5.1; en-US) AppleWebKit/534.7 (KHTML, like Gecko) Chrome/7.0.514.0 Safari/534.7\",\n",
    "        \"Mozilla/5.0 (Windows; U; Windows NT 6.0; en-US) AppleWebKit/534.14 (KHTML, like Gecko) Chrome/9.0.601.0 Safari/534.14\",\n",
    "        \"Mozilla/5.0 (Windows; U; Windows NT 6.1; en-US) AppleWebKit/534.14 (KHTML, like Gecko) Chrome/10.0.601.0 Safari/534.14\",\n",
    "        \"Mozilla/5.0 (Windows; U; Windows NT 6.1; en-US) AppleWebKit/534.20 (KHTML, like Gecko) Chrome/11.0.672.2 Safari/534.20\",\n",
    "        \"Mozilla/5.0 (Windows NT 6.1; WOW64) AppleWebKit/534.27 (KHTML, like Gecko) Chrome/12.0.712.0 Safari/534.27\",\n",
    "        \"Mozilla/5.0 (Windows NT 6.1; WOW64) AppleWebKit/535.1 (KHTML, like Gecko) Chrome/13.0.782.24 Safari/535.1\",\n",
    "        \"Mozilla/5.0 (Windows NT 6.0) AppleWebKit/535.2 (KHTML, like Gecko) Chrome/15.0.874.120 Safari/535.2\",\n",
    "        \"Mozilla/5.0 (Windows NT 6.1; WOW64) AppleWebKit/535.7 (KHTML, like Gecko) Chrome/16.0.912.36 Safari/535.7\",\n",
    "        \"Mozilla/5.0 (Windows; U; Windows NT 6.0 x64; en-US; rv:1.9pre) Gecko/2008072421 Minefield/3.0.2pre\",\n",
    "        \"Mozilla/5.0 (Windows; U; Windows NT 5.1; en-US; rv:1.9.0.10) Gecko/2009042316 Firefox/3.0.10\",\n",
    "        \"Mozilla/5.0 (Windows; U; Windows NT 6.0; en-GB; rv:1.9.0.11) Gecko/2009060215 Firefox/3.0.11 (.NET CLR 3.5.30729)\",\n",
    "        \"Mozilla/5.0 (Windows; U; Windows NT 6.0; en-US; rv:1.9.1.6) Gecko/20091201 Firefox/3.5.6 GTB5\",\n",
    "        \"Mozilla/5.0 (Windows; U; Windows NT 5.1; tr; rv:1.9.2.8) Gecko/20100722 Firefox/3.6.8 ( .NET CLR 3.5.30729; .NET4.0E)\",\n",
    "        \"Mozilla/5.0 (Windows NT 6.1; rv:2.0.1) Gecko/20100101 Firefox/4.0.1\",\n",
    "        \"Mozilla/5.0 (Windows NT 6.1; Win64; x64; rv:2.0.1) Gecko/20100101 Firefox/4.0.1\",\n",
    "        \"Mozilla/5.0 (Windows NT 5.1; rv:5.0) Gecko/20100101 Firefox/5.0\",\n",
    "        \"Mozilla/5.0 (Windows NT 6.1; WOW64; rv:6.0a2) Gecko/20110622 Firefox/6.0a2\",\n",
    "        \"Mozilla/5.0 (Windows NT 6.1; WOW64; rv:7.0.1) Gecko/20100101 Firefox/7.0.1\",\n",
    "        \"Mozilla/5.0 (Windows NT 6.1; WOW64; rv:2.0b4pre) Gecko/20100815 Minefield/4.0b4pre\",\n",
    "        \"Mozilla/4.0 (compatible; MSIE 5.5; Windows NT 5.0 )\", ]\n",
    "\n",
    "    UserAgent = random.choice(user_agents)\n",
    "    return UserAgent"
   ]
  },
  {
   "cell_type": "code",
   "execution_count": 42,
   "metadata": {},
   "outputs": [
    {
     "name": "stderr",
     "output_type": "stream",
     "text": [
      "Building prefix dict from the default dictionary ...\n",
      "Loading model from cache C:\\Users\\VRLAB_~1\\AppData\\Local\\Temp\\jieba.cache\n",
      "Loading model cost 0.583 seconds.\n",
      "Prefix dict has been built succesfully.\n"
     ]
    },
    {
     "name": "stdout",
     "output_type": "stream",
     "text": [
      "['永辉', '超市', '回应', '洽购', '麦德龙', '中国', '：', '有过', '初步', '沟通', ' ', '未', '形成', '任何', '文件']\n"
     ]
    }
   ],
   "source": [
    "fnews=pd.read_csv('D:\\\\test\\\\txtTocsv\\\\dongfangTest.csv')\n",
    "\n",
    "finTitle=[]\n",
    "for index in range(len(fnews['title'])):\n",
    "    thisTitle=[]\n",
    "\n",
    "    titl=''\n",
    "\n",
    "    titl=titl.join((fnews['title'][index]).replace(',','').replace(': ',''))\n",
    "    titlez=jieba.cut_for_search(titl)\n",
    "    for item in titlez:\n",
    "        thisTitle.append(item)\n",
    "    finTitle.append(thisTitle)\n",
    "print(finTitle[0])     #finTitle: 分好词之后的title"
   ]
  },
  {
   "cell_type": "code",
   "execution_count": 43,
   "metadata": {},
   "outputs": [
    {
     "name": "stdout",
     "output_type": "stream",
     "text": [
      "永辉超市\n",
      "永辉超市\n",
      "中国外运\n",
      "新城控股\n",
      "鹏鼎控股\n",
      "第一创业\n",
      "锦浪科技\n",
      "天山生物\n",
      "锦浪科技\n",
      "格力地产\n",
      "奥特迅\n",
      "国电南瑞\n",
      "兴瑞科技\n",
      "锦浪科技\n",
      "万泽股份\n",
      "锦浪科技\n",
      "万泽股份\n",
      "鹏鼎控股\n",
      "万泽股份\n",
      "福莱特\n",
      "锦浪科技\n",
      "康泰生物\n",
      "蔚蓝生物\n",
      "万泽股份\n",
      "锦浪科技\n",
      "鹏鼎控股\n",
      "锦浪科技\n"
     ]
    }
   ],
   "source": [
    "companys=[]\n",
    "totalcompanys=[]\n",
    "# for index in range(len(finTitle)):\n",
    "for index in range(10):\n",
    "    total = []  # 保存所有的公司，并且防止出现重复\n",
    "    for indexT in range(len(finTitle[index])):  #对每一个标题\n",
    "\n",
    "        if (len(finTitle[index][indexT])>1):\n",
    "            url = 'http://ipo.qichacha.com/search?key=' + finTitle[index][indexT]\n",
    "            agent = 'Mozilla/5.0 (Windows NT 10.0; WOW64) AppleWebKit/537.36 (KHTML, like Gecko) Chrome/69.0.3497.100 Safari/537.36'\n",
    "            cookie = 'qgqp_b_id=de6f5b2aab0bf1b85367cff30462fbd1; st_pvi=64069861991421; st_sp=2019-01-24%2018%3A36%3A57; st_si=94918195918945; st_asi=delete; bdshare_firstime=1548326400263; st_sn=12; st_psi=2019012418445425-111000300841-9825945936'\n",
    "            refer = 'http://finance.eastmoney.com/news/cgnjj_1.html'\n",
    "            headers = {'User-Agent': userAgent(), 'Cookie': cookie, 'Refer': refer}\n",
    "\n",
    "            r = requests.get(url, headers)\n",
    "            r.encoding = 'utf-8'\n",
    "            soup = BeautifulSoup(r.text, 'html.parser')\n",
    "\n",
    "            a=0\n",
    "            for eachurl in soup.select('tbody'):\n",
    "\n",
    "                a=a+1\n",
    "\n",
    "                if (a==1):\n",
    "                    hrefCom = eachurl.select('a')[0]\n",
    "                    hrefCom = format_str(hrefCom)\n",
    "                    if hrefCom not in total:\n",
    "                        total.append(hrefCom)\n",
    "\n",
    "\n",
    "            # title = soup.select('tbody > a')[0]\n",
    "                print(hrefCom)\n",
    "            # companys.append(hrefCom)\n",
    "    totalcompanys.append(total)\n",
    "# print(totalcompanys)\n",
    "time.sleep(3)"
   ]
  },
  {
   "cell_type": "code",
   "execution_count": 46,
   "metadata": {},
   "outputs": [
    {
     "name": "stdout",
     "output_type": "stream",
     "text": [
      "[['永辉超市'], ['新城控股'], [], [], [], [], ['兴瑞科技'], ['万泽股份'], ['康泰生物'], ['万泽股份']]\n"
     ]
    }
   ],
   "source": [
    "realTotCom=[]\n",
    "for index in range(len(totalcompanys)):\n",
    "    realFinCom = []\n",
    "    for indexG in range(len(totalcompanys[index])):\n",
    "        if totalcompanys[index][indexG] in  fnews['title'][index]:\n",
    "            realFinCom.append(totalcompanys[index][indexG])\n",
    "\n",
    "    realTotCom.append(realFinCom)\n",
    "\n",
    "print(realTotCom)"
   ]
  },
  {
   "cell_type": "code",
   "execution_count": 47,
   "metadata": {},
   "outputs": [
    {
     "data": {
      "text/plain": [
       "[['永辉超市'], ['新城控股'], [], [], [], [], ['兴瑞科技'], ['万泽股份'], ['康泰生物'], ['万泽股份']]"
      ]
     },
     "execution_count": 47,
     "metadata": {},
     "output_type": "execute_result"
    }
   ],
   "source": [
    "##公司名称:testCom  \n",
    "\n",
    "testCom=[]\n",
    "for index in range (len(realTotCom)):\n",
    "    testC=[]\n",
    "    for indexT in range(len(realTotCom[index])):\n",
    "        if(realTotCom[index][indexT]in fnews['title'][index]):\n",
    "            testC.append(realTotCom[index][indexT])\n",
    "    testCom.append(testC)\n",
    "        \n",
    "testCom        "
   ]
  },
  {
   "cell_type": "code",
   "execution_count": null,
   "metadata": {},
   "outputs": [],
   "source": []
  },
  {
   "cell_type": "code",
   "execution_count": 50,
   "metadata": {},
   "outputs": [
    {
     "data": {
      "text/plain": [
       "[['601933'],\n",
       " ['601155'],\n",
       " [],\n",
       " [],\n",
       " [],\n",
       " [],\n",
       " ['002937'],\n",
       " ['000534'],\n",
       " ['300601'],\n",
       " ['000534']]"
      ]
     },
     "execution_count": 50,
     "metadata": {},
     "output_type": "execute_result"
    }
   ],
   "source": [
    "#公式代码:testCode\n",
    "testCode=[] \n",
    "for index in range(len(testCom)):\n",
    "    testCo=[]\n",
    "    for indexT in range(len(testCom[index])):\n",
    "     if len(testCom[index][indexT])>0:\n",
    "        url = 'http://ipo.qichacha.com/search?key=' + testCom[index][indexT]\n",
    "        agent = 'Mozilla/5.0 (Windows NT 10.0; WOW64) AppleWebKit/537.36 (KHTML, like Gecko) Chrome/69.0.3497.100 Safari/537.36'\n",
    "        cookie = 'qgqp_b_id=de6f5b2aab0bf1b85367cff30462fbd1; st_pvi=64069861991421; st_sp=2019-01-24%2018%3A36%3A57; st_si=94918195918945; st_asi=delete; bdshare_firstime=1548326400263; st_sn=12; st_psi=2019012418445425-111000300841-9825945936'\n",
    "        refer = 'http://finance.eastmoney.com/news/cgnjj_1.html'\n",
    "        headers = {'User-Agent': userAgent(), 'Cookie': cookie, 'Refer': refer}\n",
    "\n",
    "        r = requests.get(url, headers)\n",
    "        r.encoding = 'utf-8'\n",
    "        soup = BeautifulSoup(r.text, 'html.parser')\n",
    "\n",
    "        a=0\n",
    "        for eachurl in soup.select('tbody'):\n",
    "\n",
    "                        a=a+1\n",
    "\n",
    "                        if (a==1):\n",
    "                            hrefCom = eachurl.select('span')[0]\n",
    "                            hrefCom = str(hrefCom).replace('<span style=\"font-size:14px;\">','').replace('</span>','')\n",
    "#                             print(hrefCom)\n",
    "                            testCo.append(hrefCom)\n",
    "     else:\n",
    "            testCo.append('null')\n",
    "    testCode.append(testCo)\n",
    "\n",
    "testCode"
   ]
  },
  {
   "cell_type": "code",
   "execution_count": 54,
   "metadata": {},
   "outputs": [
    {
     "data": {
      "text/plain": [
       "0     2019年03月20日 20:32\n",
       "1     2019年03月20日 20:28\n",
       "2     2019年03月20日 20:27\n",
       "3     2019年03月20日 20:26\n",
       "4     2019年03月20日 20:25\n",
       "5     2019年03月20日 20:25\n",
       "6     2019年03月20日 20:24\n",
       "7     2019年03月20日 20:24\n",
       "8     2019年03月20日 20:23\n",
       "9     2019年03月20日 20:22\n",
       "10    2019年03月20日 20:21\n",
       "11    2019年03月20日 20:15\n",
       "12    2019年03月20日 20:07\n",
       "13    2019年03月20日 20:06\n",
       "14    2019年03月20日 20:03\n",
       "15    2019年03月20日 20:02\n",
       "16    2019年03月20日 20:02\n",
       "17    2019年03月20日 20:01\n",
       "18    2019年03月20日 19:58\n",
       "19    2019年03月20日 19:56\n",
       "Name: date, dtype: object"
      ]
     },
     "execution_count": 54,
     "metadata": {},
     "output_type": "execute_result"
    }
   ],
   "source": [
    "fnews['date']"
   ]
  },
  {
   "cell_type": "code",
   "execution_count": 68,
   "metadata": {},
   "outputs": [
    {
     "data": {
      "text/plain": [
       "['2019-03-20 20:32',\n",
       " '2019-03-20 20:28',\n",
       " '2019-03-20 20:27',\n",
       " '2019-03-20 20:26',\n",
       " '2019-03-20 20:25',\n",
       " '2019-03-20 20:25',\n",
       " '2019-03-20 20:24',\n",
       " '2019-03-20 20:24',\n",
       " '2019-03-20 20:23',\n",
       " '2019-03-20 20:22',\n",
       " '2019-03-20 20:21',\n",
       " '2019-03-20 20:15',\n",
       " '2019-03-20 20:07',\n",
       " '2019-03-20 20:06',\n",
       " '2019-03-20 20:03',\n",
       " '2019-03-20 20:02',\n",
       " '2019-03-20 20:02',\n",
       " '2019-03-20 20:01',\n",
       " '2019-03-20 19:58',\n",
       " '2019-03-20 19:56']"
      ]
     },
     "execution_count": 68,
     "metadata": {},
     "output_type": "execute_result"
    }
   ],
   "source": [
    "date=[]\n",
    "for index in range(len(fnews['date'])):\n",
    "    withoutTime=''\n",
    "    evedate=str(fnews['date'][index]).replace('年','-').replace('月','-').replace('日','')\n",
    "    date.append(evedate)\n",
    "date"
   ]
  },
  {
   "cell_type": "code",
   "execution_count": 97,
   "metadata": {},
   "outputs": [
    {
     "name": "stdout",
     "output_type": "stream",
     "text": [
      " 2019-03-20   8.71   8.83   8.56   8.66   -0.08   -0.92   403,153   35,063   3.09   0.51 \n",
      " 2019-03-18   8.31   8.66   8.28   8.65   0.34   4.09   852,964   72,757   4.57   1.07 \n",
      " 2019-03-14   8.30   8.37   8.21   8.25   -0.07   -0.84   296,314   24,515   1.92   0.37 \n",
      " 2019-03-12   8.39   8.49   8.33   8.40   0.02   0.24   539,406   45,345   1.91   0.68 \n",
      " 2019-03-08   8.50   8.52   8.25   8.26   -0.34   -3.95   690,903   57,713   3.14   0.87 \n",
      " 2019-03-06   8.87   8.87   8.60   8.79   -0.08   -0.90   807,535   70,414   3.04   1.01 \n",
      " 2019-03-04   8.74   8.96   8.72   8.80   0.08   0.92   704,986   62,320   2.75   0.88 \n",
      " 2019-02-28   8.68   8.70   8.50   8.65   0.01   0.12   566,385   48,708   2.31   0.71 \n",
      " 2019-02-26   9.10   9.15   8.83   8.85   -0.25   -2.75   657,494   58,948   3.52   0.83 \n",
      " 2019-02-22   8.56   8.84   8.50   8.84   0.32   3.76   522,970   45,537   3.99   0.66 \n",
      " 2019-02-20   8.73   8.86   8.68   8.70   0.01   0.12   291,728   25,496   2.07   0.37 \n",
      " 2019-02-18   8.58   8.88   8.58   8.84   0.28   3.27   397,737   34,921   3.50   0.50 \n",
      " 2019-02-14   8.72   8.74   8.59   8.65   -0.06   -0.69   239,741   20,771   1.72   0.30 \n",
      " 2019-02-12   8.23   8.57   8.21   8.55   0.31   3.76   475,080   40,078   4.37   0.60 \n",
      " 2019-02-01   8.09   8.23   8.09   8.19   0.13   1.61   155,316   12,719   1.74   0.19 \n",
      " 2019-01-30   8.25   8.31   8.19   8.21   -0.04   -0.48   184,038   15,176   1.45   0.23 \n",
      " 2019-01-28   8.24   8.38   8.20   8.24   0.02   0.24   294,427   24,463   2.19   0.37 \n",
      " 2019-01-24   8.23   8.25   8.13   8.16   -0.05   -0.61   211,723   17,305   1.46   0.27 \n",
      " 2019-01-22   8.25   8.25   8.10   8.18   -0.06   -0.73   259,291   21,231   1.82   0.33 \n",
      " 2019-01-18   8.14   8.24   8.08   8.15   0.02   0.25   367,992   30,014   1.97   0.46 \n",
      " 2019-01-16   8.26   8.34   8.25   8.29   0.03   0.36   285,143   23,661   1.09   0.36 \n",
      " 2019-01-14   8.14   8.30   8.05   8.21   0.07   0.86   389,707   32,104   3.07   0.49 \n",
      " 2019-01-10   8.01   8.05   7.94   8.02   -0.04   -0.50   247,976   19,828   1.36   0.31 \n",
      " 2019-01-08   7.92   8.08   7.82   8.07   0.12   1.51   419,877   33,434   3.27   0.53 \n",
      " 2019-01-04   7.84   7.95   7.70   7.92   0.02   0.25   370,436   28,992   3.16   0.46 \n",
      " 2019-01-02   7.90   7.93   7.69   7.90   0.03   0.38   244,268   19,106   3.05   0.31 \n",
      " 2019-03-20   42.90   43.30   41.71   42.51   -0.51   -1.19   194,762   82,865   3.70   0.87 \n",
      " 2019-03-18   41.91   44.44   41.71   44.40   2.49   5.94   278,343   118,874   6.51   1.24 \n",
      " 2019-03-14   39.37   39.60   37.90   38.68   0.24   0.62   189,627   73,651   4.42   0.84 \n",
      " 2019-03-12   37.01   38.49   37.01   37.85   1.52   4.18   296,323   112,699   4.07   1.32 \n",
      " 2019-03-08   34.41   35.33   33.98   34.36   -0.60   -1.72   152,292   52,532   3.86   0.68 \n",
      " 2019-03-06   36.90   37.29   35.95   36.42   0.02   0.05   144,792   52,832   3.68   0.64 \n",
      " 2019-03-04   33.88   35.57   33.76   34.62   0.93   2.76   231,238   80,187   5.37   1.03 \n",
      " 2019-02-28   33.40   34.34   33.24   33.82   0.58   1.74   116,418   39,473   3.31   0.52 \n",
      " 2019-02-26   32.20   34.00   32.00   33.24   0.81   2.50   231,782   77,278   6.17   1.03 \n",
      " 2019-02-22   30.59   31.89   30.53   31.49   0.92   3.01   125,112   39,141   4.45   0.56 \n",
      " 2019-02-20   30.23   31.19   30.20   30.68   0.22   0.72   102,329   31,430   3.25   0.46 \n",
      " 2019-02-18   30.05   30.91   30.05   30.76   0.98   3.29   100,005   30,455   2.89   0.45 \n",
      " 2019-02-14   30.28   30.69   30.06   30.47   0.24   0.79   95,412   28,957   2.08   0.42 \n",
      " 2019-02-12   30.46   30.59   30.05   30.30   -0.37   -1.21   87,907   26,626   1.76   0.39 \n",
      " 2019-02-01   29.44   29.64   28.60   29.38   0.04   0.14   140,889   40,985   3.54   0.63 \n",
      " 2019-01-30   28.85   29.45   28.59   28.80   0.01   0.03   201,217   58,352   2.99   0.90 \n",
      " 2019-01-28   27.26   27.70   26.90   27.18   0.05   0.18   90,446   24,670   2.95   0.40 \n",
      " 2019-01-24   26.63   26.98   26.21   26.74   0.34   1.29   64,279   17,116   2.92   0.29 \n",
      " 2019-01-22   25.86   26.85   25.83   26.54   0.58   2.23   187,008   49,394   3.93   0.83 \n",
      " 2019-01-18   25.82   26.29   25.72   26.26   0.34   1.31   102,573   26,779   2.20   0.46 \n",
      " 2019-01-16   25.79   26.31   25.52   26.15   0.57   2.23   105,893   27,499   3.09   0.47 \n",
      " 2019-01-14   24.73   25.07   24.64   24.96   0.17   0.69   57,959   14,421   1.73   0.26 \n",
      " 2019-01-10   24.71   25.08   24.44   24.53   -0.36   -1.45   66,176   16,308   2.57   0.29 \n",
      " 2019-01-08   25.16   25.24   24.65   25.19   0.00   0.00   59,551   14,843   2.34   0.27 \n",
      " 2019-01-04   24.01   25.35   23.93   25.10   0.83   3.42   108,042   26,928   5.85   0.48 \n",
      " 2019-01-02   23.88   24.24   23.52   24.16   0.47   1.98   88,396   21,186   3.04   0.39 \n"
     ]
    },
    {
     "data": {
      "text/plain": [
       "[[' 2019-03-20   8.71   8.83   8.56   8.66   -0.08   -0.92   403,153   35,063   3.09   0.51 ',\n",
       "  ' 2019-03-18   8.31   8.66   8.28   8.65   0.34   4.09   852,964   72,757   4.57   1.07 ',\n",
       "  ' 2019-03-14   8.30   8.37   8.21   8.25   -0.07   -0.84   296,314   24,515   1.92   0.37 ',\n",
       "  ' 2019-03-12   8.39   8.49   8.33   8.40   0.02   0.24   539,406   45,345   1.91   0.68 ',\n",
       "  ' 2019-03-08   8.50   8.52   8.25   8.26   -0.34   -3.95   690,903   57,713   3.14   0.87 ',\n",
       "  ' 2019-03-06   8.87   8.87   8.60   8.79   -0.08   -0.90   807,535   70,414   3.04   1.01 ',\n",
       "  ' 2019-03-04   8.74   8.96   8.72   8.80   0.08   0.92   704,986   62,320   2.75   0.88 ',\n",
       "  ' 2019-02-28   8.68   8.70   8.50   8.65   0.01   0.12   566,385   48,708   2.31   0.71 ',\n",
       "  ' 2019-02-26   9.10   9.15   8.83   8.85   -0.25   -2.75   657,494   58,948   3.52   0.83 ',\n",
       "  ' 2019-02-22   8.56   8.84   8.50   8.84   0.32   3.76   522,970   45,537   3.99   0.66 ',\n",
       "  ' 2019-02-20   8.73   8.86   8.68   8.70   0.01   0.12   291,728   25,496   2.07   0.37 ',\n",
       "  ' 2019-02-18   8.58   8.88   8.58   8.84   0.28   3.27   397,737   34,921   3.50   0.50 ',\n",
       "  ' 2019-02-14   8.72   8.74   8.59   8.65   -0.06   -0.69   239,741   20,771   1.72   0.30 ',\n",
       "  ' 2019-02-12   8.23   8.57   8.21   8.55   0.31   3.76   475,080   40,078   4.37   0.60 ',\n",
       "  ' 2019-02-01   8.09   8.23   8.09   8.19   0.13   1.61   155,316   12,719   1.74   0.19 ',\n",
       "  ' 2019-01-30   8.25   8.31   8.19   8.21   -0.04   -0.48   184,038   15,176   1.45   0.23 ',\n",
       "  ' 2019-01-28   8.24   8.38   8.20   8.24   0.02   0.24   294,427   24,463   2.19   0.37 ',\n",
       "  ' 2019-01-24   8.23   8.25   8.13   8.16   -0.05   -0.61   211,723   17,305   1.46   0.27 ',\n",
       "  ' 2019-01-22   8.25   8.25   8.10   8.18   -0.06   -0.73   259,291   21,231   1.82   0.33 ',\n",
       "  ' 2019-01-18   8.14   8.24   8.08   8.15   0.02   0.25   367,992   30,014   1.97   0.46 ',\n",
       "  ' 2019-01-16   8.26   8.34   8.25   8.29   0.03   0.36   285,143   23,661   1.09   0.36 ',\n",
       "  ' 2019-01-14   8.14   8.30   8.05   8.21   0.07   0.86   389,707   32,104   3.07   0.49 ',\n",
       "  ' 2019-01-10   8.01   8.05   7.94   8.02   -0.04   -0.50   247,976   19,828   1.36   0.31 ',\n",
       "  ' 2019-01-08   7.92   8.08   7.82   8.07   0.12   1.51   419,877   33,434   3.27   0.53 ',\n",
       "  ' 2019-01-04   7.84   7.95   7.70   7.92   0.02   0.25   370,436   28,992   3.16   0.46 ',\n",
       "  ' 2019-01-02   7.90   7.93   7.69   7.90   0.03   0.38   244,268   19,106   3.05   0.31 '],\n",
       " [' 2019-03-20   42.90   43.30   41.71   42.51   -0.51   -1.19   194,762   82,865   3.70   0.87 ',\n",
       "  ' 2019-03-18   41.91   44.44   41.71   44.40   2.49   5.94   278,343   118,874   6.51   1.24 ',\n",
       "  ' 2019-03-14   39.37   39.60   37.90   38.68   0.24   0.62   189,627   73,651   4.42   0.84 ',\n",
       "  ' 2019-03-12   37.01   38.49   37.01   37.85   1.52   4.18   296,323   112,699   4.07   1.32 ',\n",
       "  ' 2019-03-08   34.41   35.33   33.98   34.36   -0.60   -1.72   152,292   52,532   3.86   0.68 ',\n",
       "  ' 2019-03-06   36.90   37.29   35.95   36.42   0.02   0.05   144,792   52,832   3.68   0.64 ',\n",
       "  ' 2019-03-04   33.88   35.57   33.76   34.62   0.93   2.76   231,238   80,187   5.37   1.03 ',\n",
       "  ' 2019-02-28   33.40   34.34   33.24   33.82   0.58   1.74   116,418   39,473   3.31   0.52 ',\n",
       "  ' 2019-02-26   32.20   34.00   32.00   33.24   0.81   2.50   231,782   77,278   6.17   1.03 ',\n",
       "  ' 2019-02-22   30.59   31.89   30.53   31.49   0.92   3.01   125,112   39,141   4.45   0.56 ',\n",
       "  ' 2019-02-20   30.23   31.19   30.20   30.68   0.22   0.72   102,329   31,430   3.25   0.46 ',\n",
       "  ' 2019-02-18   30.05   30.91   30.05   30.76   0.98   3.29   100,005   30,455   2.89   0.45 ',\n",
       "  ' 2019-02-14   30.28   30.69   30.06   30.47   0.24   0.79   95,412   28,957   2.08   0.42 ',\n",
       "  ' 2019-02-12   30.46   30.59   30.05   30.30   -0.37   -1.21   87,907   26,626   1.76   0.39 ',\n",
       "  ' 2019-02-01   29.44   29.64   28.60   29.38   0.04   0.14   140,889   40,985   3.54   0.63 ',\n",
       "  ' 2019-01-30   28.85   29.45   28.59   28.80   0.01   0.03   201,217   58,352   2.99   0.90 ',\n",
       "  ' 2019-01-28   27.26   27.70   26.90   27.18   0.05   0.18   90,446   24,670   2.95   0.40 ',\n",
       "  ' 2019-01-24   26.63   26.98   26.21   26.74   0.34   1.29   64,279   17,116   2.92   0.29 ',\n",
       "  ' 2019-01-22   25.86   26.85   25.83   26.54   0.58   2.23   187,008   49,394   3.93   0.83 ',\n",
       "  ' 2019-01-18   25.82   26.29   25.72   26.26   0.34   1.31   102,573   26,779   2.20   0.46 ',\n",
       "  ' 2019-01-16   25.79   26.31   25.52   26.15   0.57   2.23   105,893   27,499   3.09   0.47 ',\n",
       "  ' 2019-01-14   24.73   25.07   24.64   24.96   0.17   0.69   57,959   14,421   1.73   0.26 ',\n",
       "  ' 2019-01-10   24.71   25.08   24.44   24.53   -0.36   -1.45   66,176   16,308   2.57   0.29 ',\n",
       "  ' 2019-01-08   25.16   25.24   24.65   25.19   0.00   0.00   59,551   14,843   2.34   0.27 ',\n",
       "  ' 2019-01-04   24.01   25.35   23.93   25.10   0.83   3.42   108,042   26,928   5.85   0.48 ',\n",
       "  ' 2019-01-02   23.88   24.24   23.52   24.16   0.47   1.98   88,396   21,186   3.04   0.39 '],\n",
       " []]"
      ]
     },
     "execution_count": 97,
     "metadata": {},
     "output_type": "execute_result"
    }
   ],
   "source": [
    "#用相关的公司的coed，查找股票数据信息：totstockInf\n",
    "\n",
    "# url='http://quotes.money.163.com/trade/lsjysj_600000.html?year=2019&season=1'\n",
    "\n",
    "totstockInf=[]\n",
    "# for code in testCode:\n",
    "# for index in range(len(testCode)):\n",
    "for index in range(3):\n",
    "    EachstokeInf=[]\n",
    "    code=''\n",
    "#     url = 'http://quotes.money.163.com/trade/lsjysj_' +str(code)+'.html?year=2019&season=1'\n",
    "    if len(testCode[index])!=0:\n",
    "        code=code.join(testCode[index])\n",
    "        url = 'http://quotes.money.163.com/trade/lsjysj_' +str(code)+'.html?year=2019&season=1'\n",
    "        agent = 'Mozilla/5.0 (Windows NT 10.0; WOW64) AppleWebKit/537.36 (KHTML, like Gecko) Chrome/69.0.3497.100 Safari/537.36'\n",
    "        cookie = 'qgqp_b_id=de6f5b2aab0bf1b85367cff30462fbd1; st_pvi=64069861991421; st_sp=2019-01-24%2018%3A36%3A57; st_si=94918195918945; st_asi=delete; bdshare_firstime=1548326400263; st_sn=12; st_psi=2019012418445425-111000300841-9825945936'\n",
    "        refer = 'http://finance.eastmoney.com/news/cgnjj_1.html'\n",
    "        headers = {'User-Agent': userAgent(), 'Cookie': cookie, 'Refer': refer}\n",
    "\n",
    "        r = requests.get(url, headers)\n",
    "        r.encoding='utf-8'\n",
    "        soup=BeautifulSoup(r.text,'html.parser')\n",
    "        for eachurl in soup.select('tr. '):\n",
    "            hrefCom = eachurl.select('td')\n",
    "            hrefCom=str(hrefCom).replace('[<td>',' ').replace('</td>,',' ').replace('<td class=\"cGreen\">',' ').replace('<td class=\"cRed\">',' ').replace(' ',' ').replace('<td>',' ').replace('</td>]',' ')\n",
    "            EachstokeInf.append(hrefCom)\n",
    "            print(hrefCom)\n",
    "    else:\n",
    "        a=0\n",
    "    totstockInf.append(EachstokeInf)\n",
    "totstockInf"
   ]
  },
  {
   "cell_type": "code",
   "execution_count": 116,
   "metadata": {
    "scrolled": true
   },
   "outputs": [
    {
     "name": "stdout",
     "output_type": "stream",
     "text": [
      "['2019-03-20', '2019-03-20']\n",
      "['8.71', '42.90']\n"
     ]
    }
   ],
   "source": [
    "#将股票的信息分割成多个数组\n",
    "\n",
    "###日期：\n",
    "\n",
    "\n",
    "date=[]\n",
    "openPri=[]\n",
    "closePri=[]\n",
    "# for index in range(len(totstockInf)):\n",
    "for index in range(3):\n",
    "    lines=''\n",
    "    lines=lines.join(totstockInf[index])\n",
    "    lines=lines.split()\n",
    "    a=0\n",
    "    for dat in lines:\n",
    "        a=a+1\n",
    "        if(a==1):\n",
    "            date.append(dat)\n",
    "        if(a==2):\n",
    "            openPri.append(dat)\n",
    "        if(a==5):\n",
    "            closePri.append(dat)\n",
    "print(date)\n",
    "print(openPri)\n",
    "# print(closePri)"
   ]
  },
  {
   "cell_type": "code",
   "execution_count": null,
   "metadata": {},
   "outputs": [],
   "source": []
  }
 ],
 "metadata": {
  "kernelspec": {
   "display_name": "Python 3",
   "language": "python",
   "name": "python3"
  },
  "language_info": {
   "codemirror_mode": {
    "name": "ipython",
    "version": 3
   },
   "file_extension": ".py",
   "mimetype": "text/x-python",
   "name": "python",
   "nbconvert_exporter": "python",
   "pygments_lexer": "ipython3",
   "version": "3.7.1"
  }
 },
 "nbformat": 4,
 "nbformat_minor": 2
}
